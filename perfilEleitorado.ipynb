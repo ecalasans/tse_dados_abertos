{
 "cells": [
  {
   "cell_type": "code",
   "execution_count": 25,
   "metadata": {
    "collapsed": true
   },
   "outputs": [],
   "source": [
    "import pandas as pd\n",
    "import seaborn as sns\n",
    "import matplotlib.pyplot as plt\n",
    "\n",
    "sns.set()\n",
    "% matplotlib inline"
   ]
  },
  {
   "cell_type": "code",
   "execution_count": 2,
   "metadata": {},
   "outputs": [],
   "source": [
    "names = ['PERIODO', 'UF', 'MUNICIPIO', 'COD_MUNICIPIO_TSE', 'NR_ZONA', 'SEXO',\n",
    "         'FAIXA_ETARIA', 'GRAU_ESCOLARIDADE', 'QTE_ELEITORES_PERFIL']\n",
    "\n",
    "df2012 = pd.read_csv('perfil_eleitorado/perfil_eleitorado_2012.txt',\n",
    "                  encoding='latin1', sep=';', names=names)\n",
    "\n",
    "df2012 = df2012[df2012.UF == 'RN'][['MUNICIPIO', 'NR_ZONA', 'SEXO',\n",
    "                                    'FAIXA_ETARIA', 'GRAU_ESCOLARIDADE',\n",
    "                                    'QTE_ELEITORES_PERFIL']]"
   ]
  },
  {
   "cell_type": "code",
   "execution_count": 48,
   "metadata": {},
   "outputs": [
    {
     "data": {
      "text/plain": [
       "MUNICIPIO\nACARI                       9711\nAFONSO BEZERRA              9592\nALEXANDRIA                  9754\nALMINO AFONSO               4965\nALTO DO RODRIGUES          10363\nANGICOS                     9391\nANTÔNIO MARTINS             5891\nAPODI                      28066\nAREIA BRANCA               19876\nARÊS                       10200\nASSÚ                       40518\nBARAÚNA                    17792\nBARCELONA                   4336\nBAÍA FORMOSA                7398\nBENTO FERNANDES             4564\nBOA SAÚDE                   7984\nBODÓ                        3012\nBOM JESUS                   6854\nBREJINHO                    9472\nCAICÓ                      44403\nCAIÇARA DO NORTE            5154\nCAIÇARA DO RIO DO VENTO     3456\nCAMPO GRANDE                8279\nCAMPO REDONDO               7849\nCANGUARETAMA               23818\nCARAÚBAS                   16830\nCARNAUBAIS                  8933\nCARNAÚBA DOS DANTAS         5980\nCEARÁ-MIRIM                50034\nCERRO CORÁ                  8586\n                           ...  \nSÃO JOSÉ DE MIPIBU         25977\nSÃO JOSÉ DO CAMPESTRE      10461\nSÃO JOSÉ DO SERIDÓ          3955\nSÃO JOÃO DO SABUGI          5351\nSÃO MIGUEL                 18839\nSÃO MIGUEL DO GOSTOSO       7357\nSÃO PAULO DO POTENGI       13693\nSÃO PEDRO                   5782\nSÃO RAFAEL                  7281\nSÃO TOMÉ                    8851\nSÃO VICENTE                 5056\nSÍTIO NOVO                  5187\nTABOLEIRO GRANDE            2376\nTAIPU                       9841\nTANGARÁ                    12334\nTENENTE ANANIAS             8125\nTENENTE LAURENTINO CRUZ     4770\nTIBAU                       4119\nTIBAU DO SUL               10188\nTIMBAÚBA DOS BATISTAS       2213\nTOUROS                     22944\nTRIUNFO POTIGUAR            3920\nUMARIZAL                    9220\nUPANEMA                    10310\nVENHA-VER                   3677\nVERA CRUZ                   9186\nVILA FLOR                   2532\nVIÇOSA                      1691\nVÁRZEA                      5341\nÁGUA NOVA                   2527\nName: QTE_ELEITORES_PERFIL, Length: 167, dtype: int64"
      ]
     },
     "execution_count": 48,
     "metadata": {},
     "output_type": "execute_result"
    }
   ],
   "source": [
    "eleitores_df2012 = df2012.groupby('MUNICIPIO')['QTE_ELEITORES_PERFIL'].sum()\n",
    "eleitores_df2012"
   ]
  },
  {
   "cell_type": "code",
   "execution_count": 55,
   "metadata": {},
   "outputs": [
    {
     "name": "stdout",
     "output_type": "stream",
     "text": [
      "SEXO\nFEMININO         1229211\nMASCULINO        1124797\nNÃO INFORMADO       1531\nName: QTE_ELEITORES_PERFIL, dtype: int64\n"
     ]
    }
   ],
   "source": [
    "sexo_df2012 = df2012.groupby('SEXO')['QTE_ELEITORES_PERFIL'].sum()\n",
    "print(sexo_df2012)"
   ]
  },
  {
   "cell_type": "code",
   "execution_count": 54,
   "metadata": {},
   "outputs": [
    {
     "name": "stdout",
     "output_type": "stream",
     "text": [
      "FAIXA_ETARIA\n16 ANOS                32352\n17 ANOS                44039\n18 A 20 ANOS          163406\n21 A 24 ANOS          231728\n25 A 34 ANOS          573653\n35 A 44 ANOS          451050\n45 A 59 ANOS          498145\n60 A 69 ANOS          190821\n70 A 79 ANOS          109162\nINVÁLIDA                   1\nSUPERIOR A 79 ANOS     61182\nName: QTE_ELEITORES_PERFIL, dtype: int64\n"
     ]
    }
   ],
   "source": [
    "faixa_etaria_df2012 = df2012.groupby('FAIXA_ETARIA')['QTE_ELEITORES_PERFIL'].sum()\n",
    "print(faixa_etaria_df2012)"
   ]
  },
  {
   "cell_type": "code",
   "execution_count": 60,
   "metadata": {},
   "outputs": [
    {
     "data": {
      "text/plain": [
       "GRAU_ESCOLARIDADE\nANALFABETO                       197610\nENSINO FUNDAMENTAL COMPLETO      114909\nENSINO FUNDAMENTAL INCOMPLETO    770492\nENSINO MÉDIO COMPLETO            278339\nENSINO MÉDIO INCOMPLETO          417584\nLÊ E ESCREVE                     455401\nNÃO INFORMADO                      1910\nSUPERIOR COMPLETO                 69298\nSUPERIOR INCOMPLETO               49996\nName: QTE_ELEITORES_PERFIL, dtype: int64"
      ]
     },
     "execution_count": 60,
     "metadata": {},
     "output_type": "execute_result"
    }
   ],
   "source": [
    "grau_esc_df2012 = df2012.groupby('GRAU_ESCOLARIDADE')['QTE_ELEITORES_PERFIL'].sum()\n",
    "grau_esc_df2012"
   ]
  },
  {
   "cell_type": "code",
   "execution_count": 10,
   "metadata": {},
   "outputs": [],
   "source": [
    "df2016 = pd.read_csv('perfil_eleitorado/perfil_eleitorado_2016.txt',\n",
    "                  encoding='latin1', sep=';', names=names)\n",
    "\n",
    "df2016 = df2016[df2016.UF == 'RN'][['MUNICIPIO', 'NR_ZONA', 'SEXO',\n",
    "                                    'FAIXA_ETARIA', 'GRAU_ESCOLARIDADE',\n",
    "                                    'QTE_ELEITORES_PERFIL']]"
   ]
  },
  {
   "cell_type": "code",
   "execution_count": 41,
   "metadata": {},
   "outputs": [
    {
     "data": {
      "text/plain": [
       "MUNICIPIO\nACARI                       9706\nAFONSO BEZERRA              9095\nALEXANDRIA                 10683\nALMINO AFONSO               4833\nALTO DO RODRIGUES          10589\nANGICOS                     9764\nANTÔNIO MARTINS             5972\nAPODI                      29033\nAREIA BRANCA               20157\nARÊS                       11152\nASSÚ                       40798\nBARAÚNA                    18621\nBARCELONA                   4368\nBAÍA FORMOSA                6518\nBENTO FERNANDES             4919\nBOA SAÚDE                   7781\nBODÓ                        3214\nBOM JESUS                   7563\nBREJINHO                    9337\nCAICÓ                      41480\nCAIÇARA DO NORTE            5374\nCAIÇARA DO RIO DO VENTO     3917\nCAMPO GRANDE                8473\nCAMPO REDONDO               8168\nCANGUARETAMA               22173\nCARAÚBAS                   17888\nCARNAUBAIS                  8445\nCARNAÚBA DOS DANTAS         6026\nCEARÁ-MIRIM                47223\nCERRO CORÁ                  8771\n                           ...  \nSÃO JOSÉ DE MIPIBU         29140\nSÃO JOSÉ DO CAMPESTRE      10640\nSÃO JOSÉ DO SERIDÓ          4127\nSÃO JOÃO DO SABUGI          5448\nSÃO MIGUEL                 19134\nSÃO MIGUEL DO GOSTOSO       8015\nSÃO PAULO DO POTENGI       13889\nSÃO PEDRO                   6258\nSÃO RAFAEL                  7580\nSÃO TOMÉ                    9182\nSÃO VICENTE                 5187\nSÍTIO NOVO                  5035\nTABOLEIRO GRANDE            2719\nTAIPU                      10678\nTANGARÁ                    12347\nTENENTE ANANIAS             8147\nTENENTE LAURENTINO CRUZ     4912\nTIBAU                       4597\nTIBAU DO SUL                9993\nTIMBAÚBA DOS BATISTAS       2447\nTOUROS                     25392\nTRIUNFO POTIGUAR            4076\nUMARIZAL                    9162\nUPANEMA                    11025\nVENHA-VER                   3993\nVERA CRUZ                   9506\nVILA FLOR                   2582\nVIÇOSA                      1832\nVÁRZEA                      5156\nÁGUA NOVA                   2500\nName: QTE_ELEITORES_PERFIL, Length: 167, dtype: int64"
      ]
     },
     "execution_count": 41,
     "metadata": {},
     "output_type": "execute_result"
    }
   ],
   "source": [
    "eleitores_df2016 = df2016.groupby('MUNICIPIO')['QTE_ELEITORES_PERFIL'].sum()\n",
    "eleitores_df2016"
   ]
  },
  {
   "cell_type": "code",
   "execution_count": 57,
   "metadata": {},
   "outputs": [
    {
     "data": {
      "text/plain": [
       "SEXO\nFEMININO         1262413\nMASCULINO        1139158\nNÃO INFORMADO        300\nName: QTE_ELEITORES_PERFIL, dtype: int64"
      ]
     },
     "execution_count": 57,
     "metadata": {},
     "output_type": "execute_result"
    }
   ],
   "source": [
    "sexo_df2016 = df2016.groupby('SEXO')['QTE_ELEITORES_PERFIL'].sum()\n",
    "sexo_df2016"
   ]
  },
  {
   "cell_type": "code",
   "execution_count": 58,
   "metadata": {},
   "outputs": [
    {
     "data": {
      "text/plain": [
       "FAIXA_ETARIA\n16 ANOS                22578\n17 ANOS                33504\n18 A 20 ANOS          151272\n21 A 24 ANOS          221804\n25 A 34 ANOS          557474\n35 A 44 ANOS          475860\n45 A 59 ANOS          548319\n60 A 69 ANOS          216194\n70 A 79 ANOS          118534\nINVÁLIDA                 121\nSUPERIOR A 79 ANOS     56211\nName: QTE_ELEITORES_PERFIL, dtype: int64"
      ]
     },
     "execution_count": 58,
     "metadata": {},
     "output_type": "execute_result"
    }
   ],
   "source": [
    "faixa_etaria_df2016 = df2016.groupby('FAIXA_ETARIA')['QTE_ELEITORES_PERFIL'].sum()\n",
    "faixa_etaria_df2016"
   ]
  },
  {
   "cell_type": "code",
   "execution_count": 59,
   "metadata": {},
   "outputs": [
    {
     "data": {
      "text/plain": [
       "GRAU_ESCOLARIDADE\nANALFABETO                       176490\nENSINO FUNDAMENTAL COMPLETO      103625\nENSINO FUNDAMENTAL INCOMPLETO    676676\nENSINO MÉDIO COMPLETO            479375\nENSINO MÉDIO INCOMPLETO          340798\nLÊ E ESCREVE                     336693\nNÃO INFORMADO                       439\nSUPERIOR COMPLETO                183339\nSUPERIOR INCOMPLETO              104436\nName: QTE_ELEITORES_PERFIL, dtype: int64"
      ]
     },
     "execution_count": 59,
     "metadata": {},
     "output_type": "execute_result"
    }
   ],
   "source": [
    "grau_esc_df2016 = df2016.groupby('GRAU_ESCOLARIDADE')['QTE_ELEITORES_PERFIL'].sum()\n",
    "grau_esc_df2016"
   ]
  },
  {
   "cell_type": "code",
   "execution_count": 89,
   "metadata": {},
   "outputs": [],
   "source": [
    "eleitores = pd.DataFrame({'2012' : eleitores_df2012, '2016' : eleitores_df2016})\n",
    "sexo = pd.DataFrame({'2012' : sexo_df2012, '2016' : sexo_df2016})\n",
    "faixa_etaria = pd.DataFrame({'2012' : faixa_etaria_df2012, '2016' : faixa_etaria_df2016})\n",
    "escolaridade = pd.DataFrame({'2012' : grau_esc_df2012, '2016' : grau_esc_df2016})\n"
   ]
  },
  {
   "cell_type": "code",
   "execution_count": null,
   "metadata": {},
   "outputs": [],
   "source": []
  }
 ],
 "metadata": {
  "kernelspec": {
   "display_name": "Python 2",
   "language": "python",
   "name": "python2"
  },
  "language_info": {
   "codemirror_mode": {
    "name": "ipython",
    "version": 2
   },
   "file_extension": ".py",
   "mimetype": "text/x-python",
   "name": "python",
   "nbconvert_exporter": "python",
   "pygments_lexer": "ipython2",
   "version": "2.7.6"
  }
 },
 "nbformat": 4,
 "nbformat_minor": 0
}
